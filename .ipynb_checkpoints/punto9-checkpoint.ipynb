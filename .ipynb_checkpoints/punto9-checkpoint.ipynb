{
 "cells": [
  {
   "cell_type": "code",
   "execution_count": 1,
   "id": "6fe50947",
   "metadata": {},
   "outputs": [],
   "source": [
    "import pandas as pd\n",
    "import numpy as np\n",
    "from datetime import datetime\n",
    "import matplotlib.pyplot as plt"
   ]
  },
  {
   "cell_type": "code",
   "execution_count": 47,
   "id": "14972f6b",
   "metadata": {},
   "outputs": [],
   "source": [
    "df = pd.read_csv('punto_9.csv')\n",
    "data2=df['user_id;timestamp;;user_id'].str.split(pat=';',expand=True)\n",
    "dataTemp=data2[0]\n",
    "datafinal=pd.concat([dataTemp,df['timestamp']],axis=1)"
   ]
  },
  {
   "cell_type": "code",
   "execution_count": 48,
   "id": "5e79e3e6",
   "metadata": {},
   "outputs": [],
   "source": [
    "datafinal.columns = ['user_id', 'timestamp']"
   ]
  },
  {
   "cell_type": "code",
   "execution_count": 49,
   "id": "a6284def",
   "metadata": {},
   "outputs": [],
   "source": [
    "timesTemp = datafinal['timestamp'].apply(lambda x: datetime.strptime(x[:8], '%I %M %S').strftime('%I:%M:%S'))\n",
    "times=pd.to_datetime(timesTemp, format='%I:%M:%S')"
   ]
  },
  {
   "cell_type": "code",
   "execution_count": 69,
   "id": "9705e281",
   "metadata": {},
   "outputs": [
    {
     "data": {
      "text/plain": [
       "timestamp  user_id\n",
       "0          51         219\n",
       "           136        110\n",
       "           339         94\n",
       "           343         93\n",
       "           970         34\n",
       "                     ... \n",
       "8          947          1\n",
       "           948          1\n",
       "           949          1\n",
       "           958          1\n",
       "           960          1\n",
       "Name: user_id, Length: 837, dtype: int64"
      ]
     },
     "execution_count": 69,
     "metadata": {},
     "output_type": "execute_result"
    }
   ],
   "source": [
    "datafinal.groupby([times.dt.hour])['user_id'].value_counts()"
   ]
  },
  {
   "cell_type": "code",
   "execution_count": 75,
   "id": "3154e3c2",
   "metadata": {},
   "outputs": [],
   "source": [
    "dataToPlot=datafinal.groupby([times.dt.hour])['user_id'].value_counts().max(level=0)"
   ]
  },
  {
   "cell_type": "code",
   "execution_count": 82,
   "id": "11e26dab",
   "metadata": {},
   "outputs": [
    {
     "data": {
      "text/plain": [
       "<AxesSubplot:xlabel='timestamp'>"
      ]
     },
     "execution_count": 82,
     "metadata": {},
     "output_type": "execute_result"
    },
    {
     "data": {
      "image/png": "[encoded data removed]",
      "text/plain": [
       "<Figure size 432x288 with 1 Axes>"
      ]
     },
     "metadata": {
      "needs_background": "light"
     },
     "output_type": "display_data"
    }
   ],
   "source": [
    "dataToPlot.plot()"
   ]
  },
  {
   "cell_type": "code",
   "execution_count": 38,
   "id": "fbb49c38",
   "metadata": {},
   "outputs": [
    {
     "data": {
      "text/html": [
       "<div>\n",
       "<style scoped>\n",
       "    .dataframe tbody tr th:only-of-type {\n",
       "        vertical-align: middle;\n",
       "    }\n",
       "\n",
       "    .dataframe tbody tr th {\n",
       "        vertical-align: top;\n",
       "    }\n",
       "\n",
       "    .dataframe thead th {\n",
       "        text-align: right;\n",
       "    }\n",
       "</style>\n",
       "<table border=\"1\" class=\"dataframe\">\n",
       "  <thead>\n",
       "    <tr style=\"text-align: right;\">\n",
       "      <th>user_id</th>\n",
       "      <th>083</th>\n",
       "      <th>085</th>\n",
       "      <th>087</th>\n",
       "      <th>088</th>\n",
       "      <th>089</th>\n",
       "      <th>10</th>\n",
       "      <th>100</th>\n",
       "      <th>1000</th>\n",
       "      <th>1001</th>\n",
       "      <th>1003</th>\n",
       "      <th>...</th>\n",
       "      <th>981</th>\n",
       "      <th>982</th>\n",
       "      <th>984</th>\n",
       "      <th>99</th>\n",
       "      <th>990</th>\n",
       "      <th>992</th>\n",
       "      <th>993</th>\n",
       "      <th>995</th>\n",
       "      <th>997</th>\n",
       "      <th>998</th>\n",
       "    </tr>\n",
       "    <tr>\n",
       "      <th>timestamp</th>\n",
       "      <th></th>\n",
       "      <th></th>\n",
       "      <th></th>\n",
       "      <th></th>\n",
       "      <th></th>\n",
       "      <th></th>\n",
       "      <th></th>\n",
       "      <th></th>\n",
       "      <th></th>\n",
       "      <th></th>\n",
       "      <th></th>\n",
       "      <th></th>\n",
       "      <th></th>\n",
       "      <th></th>\n",
       "      <th></th>\n",
       "      <th></th>\n",
       "      <th></th>\n",
       "      <th></th>\n",
       "      <th></th>\n",
       "      <th></th>\n",
       "      <th></th>\n",
       "    </tr>\n",
       "  </thead>\n",
       "  <tbody>\n",
       "    <tr>\n",
       "      <th>0</th>\n",
       "      <td>0.0</td>\n",
       "      <td>0.0</td>\n",
       "      <td>0.0</td>\n",
       "      <td>0.0</td>\n",
       "      <td>0.0</td>\n",
       "      <td>4.0</td>\n",
       "      <td>4.0</td>\n",
       "      <td>9.0</td>\n",
       "      <td>1.0</td>\n",
       "      <td>5.0</td>\n",
       "      <td>...</td>\n",
       "      <td>4.0</td>\n",
       "      <td>8.0</td>\n",
       "      <td>3.0</td>\n",
       "      <td>2.0</td>\n",
       "      <td>5.0</td>\n",
       "      <td>6.0</td>\n",
       "      <td>9.0</td>\n",
       "      <td>4.0</td>\n",
       "      <td>7.0</td>\n",
       "      <td>16.0</td>\n",
       "    </tr>\n",
       "    <tr>\n",
       "      <th>8</th>\n",
       "      <td>2.0</td>\n",
       "      <td>2.0</td>\n",
       "      <td>3.0</td>\n",
       "      <td>4.0</td>\n",
       "      <td>6.0</td>\n",
       "      <td>4.0</td>\n",
       "      <td>4.0</td>\n",
       "      <td>9.0</td>\n",
       "      <td>1.0</td>\n",
       "      <td>5.0</td>\n",
       "      <td>...</td>\n",
       "      <td>4.0</td>\n",
       "      <td>8.0</td>\n",
       "      <td>3.0</td>\n",
       "      <td>2.0</td>\n",
       "      <td>5.0</td>\n",
       "      <td>6.0</td>\n",
       "      <td>9.0</td>\n",
       "      <td>4.0</td>\n",
       "      <td>7.0</td>\n",
       "      <td>16.0</td>\n",
       "    </tr>\n",
       "  </tbody>\n",
       "</table>\n",
       "<p>2 rows × 426 columns</p>\n",
       "</div>"
      ],
      "text/plain": [
       "user_id    083  085  087  088  089   10  100  1000  1001  1003  ...  981  982  \\\n",
       "timestamp                                                       ...             \n",
       "0          0.0  0.0  0.0  0.0  0.0  4.0  4.0   9.0   1.0   5.0  ...  4.0  8.0   \n",
       "8          2.0  2.0  3.0  4.0  6.0  4.0  4.0   9.0   1.0   5.0  ...  4.0  8.0   \n",
       "\n",
       "user_id    984   99  990  992  993  995  997   998  \n",
       "timestamp                                           \n",
       "0          3.0  2.0  5.0  6.0  9.0  4.0  7.0  16.0  \n",
       "8          3.0  2.0  5.0  6.0  9.0  4.0  7.0  16.0  \n",
       "\n",
       "[2 rows x 426 columns]"
      ]
     },
     "execution_count": 38,
     "metadata": {},
     "output_type": "execute_result"
    }
   ],
   "source": [
    "datafinal.groupby([times.dt.hour])['user_id'].value_counts().unstack().fillna(0)"
   ]
  }
 ],
 "metadata": {
  "kernelspec": {
   "display_name": "Python 3",
   "language": "python",
   "name": "python3"
  },
  "language_info": {
   "codemirror_mode": {
    "name": "ipython",
    "version": 3
   },
   "file_extension": ".py",
   "mimetype": "text/x-python",
   "name": "python",
   "nbconvert_exporter": "python",
   "pygments_lexer": "ipython3",
   "version": "3.8.5"
  }
 },
 "nbformat": 4,
 "nbformat_minor": 5
}
