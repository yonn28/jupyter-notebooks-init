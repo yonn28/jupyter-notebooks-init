{
 "cells": [
  {
   "cell_type": "code",
   "execution_count": 3,
   "metadata": {},
   "outputs": [
    {
     "name": "stdout",
     "output_type": "stream",
     "text": [
      "current value 100\n",
      "current value 101\n",
      "current value 102\n",
      "current value 103\n",
      "current value 104\n",
      "current value 105\n",
      "current value 106\n",
      "current value 107\n",
      "current value 108\n",
      "current value 109\n",
      "current value 110\n",
      "current value 111\n",
      "current value 112\n",
      "current value 113\n",
      "current value 114\n",
      "current value 115\n",
      "current value 116\n",
      "current value 117\n",
      "current value 118\n",
      "current value 119\n"
     ]
    }
   ],
   "source": [
    "for i in range(100,120):\n",
    "    print('current value',i)"
   ]
  },
  {
   "cell_type": "code",
   "execution_count": 16,
   "metadata": {},
   "outputs": [
    {
     "name": "stdout",
     "output_type": "stream",
     "text": [
      "digite su edad25\n",
      "en 0 tendra 25 años\n",
      "en 1 tendra 26 años\n",
      "en 2 tendra 27 años\n",
      "en 3 tendra 28 años\n",
      "en 4 tendra 29 años\n",
      "en 5 tendra 30 años\n",
      "en 6 tendra 31 años\n",
      "en 7 tendra 32 años\n",
      "en 8 tendra 33 años\n",
      "en 9 tendra 34 años\n"
     ]
    }
   ],
   "source": [
    "edad = input(\"digite su edad\")\n",
    "edadNumber = int(edad)\n",
    "count = 0\n",
    "for i in range(edadNumber, edadNumber+10):\n",
    "    print('en',count,'tendra', i,'años')\n",
    "    count +=1"
   ]
  },
  {
   "cell_type": "code",
   "execution_count": 14,
   "metadata": {},
   "outputs": [
    {
     "name": "stdout",
     "output_type": "stream",
     "text": [
      "4\n"
     ]
    }
   ],
   "source": [
    "mensaje = 'hola te hablo desde el más allá'\n",
    "e_count = 0\n",
    "\n",
    "for letra in mensaje:\n",
    "  if letra == 'e': \n",
    "    e_count = e_count + 1 \n",
    "print(e_count)"
   ]
  },
  {
   "cell_type": "code",
   "execution_count": 18,
   "metadata": {},
   "outputs": [
    {
     "name": "stdout",
     "output_type": "stream",
     "text": [
      "1 x 1 = 1\n",
      "1 x 2 = 2\n",
      "1 x 3 = 3\n",
      "1 x 4 = 4\n",
      "1 x 5 = 5\n",
      "1 x 6 = 6\n",
      "1 x 7 = 7\n",
      "1 x 8 = 8\n",
      "1 x 9 = 9\n",
      "1 x 10 = 10\n",
      "2 x 1 = 2\n",
      "2 x 2 = 4\n",
      "2 x 3 = 6\n",
      "2 x 4 = 8\n",
      "2 x 5 = 10\n",
      "2 x 6 = 12\n",
      "2 x 7 = 14\n",
      "2 x 8 = 16\n",
      "2 x 9 = 18\n",
      "2 x 10 = 20\n",
      "3 x 1 = 3\n",
      "3 x 2 = 6\n",
      "3 x 3 = 9\n",
      "3 x 4 = 12\n",
      "3 x 5 = 15\n",
      "3 x 6 = 18\n",
      "3 x 7 = 21\n",
      "3 x 8 = 24\n",
      "3 x 9 = 27\n",
      "3 x 10 = 30\n",
      "4 x 1 = 4\n",
      "4 x 2 = 8\n",
      "4 x 3 = 12\n",
      "4 x 4 = 16\n",
      "4 x 5 = 20\n",
      "4 x 6 = 24\n",
      "4 x 7 = 28\n",
      "4 x 8 = 32\n",
      "4 x 9 = 36\n",
      "4 x 10 = 40\n",
      "5 x 1 = 5\n",
      "5 x 2 = 10\n",
      "5 x 3 = 15\n",
      "5 x 4 = 20\n",
      "5 x 5 = 25\n",
      "5 x 6 = 30\n",
      "5 x 7 = 35\n",
      "5 x 8 = 40\n",
      "5 x 9 = 45\n",
      "5 x 10 = 50\n",
      "6 x 1 = 6\n",
      "6 x 2 = 12\n",
      "6 x 3 = 18\n",
      "6 x 4 = 24\n",
      "6 x 5 = 30\n",
      "6 x 6 = 36\n",
      "6 x 7 = 42\n",
      "6 x 8 = 48\n",
      "6 x 9 = 54\n",
      "6 x 10 = 60\n",
      "7 x 1 = 7\n",
      "7 x 2 = 14\n",
      "7 x 3 = 21\n",
      "7 x 4 = 28\n",
      "7 x 5 = 35\n",
      "7 x 6 = 42\n",
      "7 x 7 = 49\n",
      "7 x 8 = 56\n",
      "7 x 9 = 63\n",
      "7 x 10 = 70\n",
      "8 x 1 = 8\n",
      "8 x 2 = 16\n",
      "8 x 3 = 24\n",
      "8 x 4 = 32\n",
      "8 x 5 = 40\n",
      "8 x 6 = 48\n",
      "8 x 7 = 56\n",
      "8 x 8 = 64\n",
      "8 x 9 = 72\n",
      "8 x 10 = 80\n",
      "9 x 1 = 9\n",
      "9 x 2 = 18\n",
      "9 x 3 = 27\n",
      "9 x 4 = 36\n",
      "9 x 5 = 45\n",
      "9 x 6 = 54\n",
      "9 x 7 = 63\n",
      "9 x 8 = 72\n",
      "9 x 9 = 81\n",
      "9 x 10 = 90\n",
      "10 x 1 = 10\n",
      "10 x 2 = 20\n",
      "10 x 3 = 30\n",
      "10 x 4 = 40\n",
      "10 x 5 = 50\n",
      "10 x 6 = 60\n",
      "10 x 7 = 70\n",
      "10 x 8 = 80\n",
      "10 x 9 = 90\n",
      "10 x 10 = 100\n"
     ]
    }
   ],
   "source": [
    "for i in range (1, 11):\n",
    "  for j in range (1, 11):\n",
    "    print(i, 'x', j, '=', i*j)\n"
   ]
  },
  {
   "cell_type": "code",
   "execution_count": 20,
   "metadata": {},
   "outputs": [
    {
     "name": "stdout",
     "output_type": "stream",
     "text": [
      "Please provide a number to add: 58\n",
      "The score is 58\n",
      "Please provide a number to add: 1\n",
      "The score is 59\n",
      "Please provide a number to add: 1\n",
      "The score is 60\n",
      "Please provide a number to add: 1\n",
      "The score is 61\n",
      "Please provide a number to add: 1\n",
      "The score is 62\n",
      "Please provide a number to add: asd\n",
      "That's not a number! Try again: 54\n",
      "The score is 116\n",
      "Please provide a number to add: 5\n",
      "The score is 121\n",
      "Please provide a number to add: 2\n",
      "The score is 123\n",
      "Please provide a number to add: 5\n",
      "The score is 128\n",
      "Please provide a number to add: 4\n",
      "The score is 132\n"
     ]
    }
   ],
   "source": [
    "final_score = 0\n",
    "counter = 0\n",
    "while counter < 10:\n",
    "  current_number = input('Please provide a number to add: ')\n",
    "  while not current_number.isnumeric():\n",
    "    current_number = input('That\\'s not a number! Try again: ')\n",
    "  final_score += int(current_number)\n",
    "  counter += 1\n",
    "print('The score is', final_score)\n"
   ]
  }
 ],
 "metadata": {
  "kernelspec": {
   "display_name": "Python 3",
   "language": "python",
   "name": "python3"
  },
  "language_info": {
   "codemirror_mode": {
    "name": "ipython",
    "version": 3
   },
   "file_extension": ".py",
   "mimetype": "text/x-python",
   "name": "python",
   "nbconvert_exporter": "python",
   "pygments_lexer": "ipython3",
   "version": "3.8.3"
  }
 },
 "nbformat": 4,
 "nbformat_minor": 4
}
