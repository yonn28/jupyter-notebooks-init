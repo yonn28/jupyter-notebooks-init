{
 "cells": [
  {
   "cell_type": "code",
   "execution_count": 1,
   "metadata": {},
   "outputs": [],
   "source": [
    "company_name = 'everydat Store'"
   ]
  },
  {
   "cell_type": "code",
   "execution_count": 2,
   "metadata": {},
   "outputs": [
    {
     "name": "stdout",
     "output_type": "stream",
     "text": [
      "False\n"
     ]
    }
   ],
   "source": [
    "print(company_name.islower())"
   ]
  },
  {
   "cell_type": "code",
   "execution_count": 3,
   "metadata": {},
   "outputs": [],
   "source": [
    "company_name = 'every store'"
   ]
  },
  {
   "cell_type": "code",
   "execution_count": 4,
   "metadata": {},
   "outputs": [
    {
     "name": "stdout",
     "output_type": "stream",
     "text": [
      "True\n"
     ]
    }
   ],
   "source": [
    "print(company_name.islower())"
   ]
  },
  {
   "cell_type": "code",
   "execution_count": 5,
   "metadata": {},
   "outputs": [],
   "source": [
    "juan_edad = 20"
   ]
  },
  {
   "cell_type": "code",
   "execution_count": 13,
   "metadata": {},
   "outputs": [
    {
     "name": "stdout",
     "output_type": "stream",
     "text": [
      "¿cuantos años tienes?30\n"
     ]
    }
   ],
   "source": [
    "edad_usuario = input('¿cuantos años tienes?')"
   ]
  },
  {
   "cell_type": "code",
   "execution_count": 14,
   "metadata": {},
   "outputs": [
    {
     "name": "stdout",
     "output_type": "stream",
     "text": [
      "eres menor que juan\n"
     ]
    }
   ],
   "source": [
    "if(int(juan_edad) > int(edad_usuario)):\n",
    "    print(\"juan es mayor que el usuario\")\n",
    "else:\n",
    "    print(\"eres menor que juan\")"
   ]
  },
  {
   "cell_type": "code",
   "execution_count": 17,
   "metadata": {},
   "outputs": [
    {
     "name": "stdout",
     "output_type": "stream",
     "text": [
      "por favor ingrese su peso60\n"
     ]
    }
   ],
   "source": [
    "peso_persona = input('por favor ingrese su peso')"
   ]
  },
  {
   "cell_type": "code",
   "execution_count": 18,
   "metadata": {},
   "outputs": [
    {
     "name": "stdout",
     "output_type": "stream",
     "text": [
      "no es flaco\n"
     ]
    }
   ],
   "source": [
    "if(int(peso_persona)>55):\n",
    "    print(\"no es flaco\")\n",
    "else: \n",
    "    print(\"es flaco\")"
   ]
  },
  {
   "cell_type": "code",
   "execution_count": 28,
   "metadata": {},
   "outputs": [
    {
     "name": "stdout",
     "output_type": "stream",
     "text": [
      "es cuzco la capital de perusi\n",
      "es incorrecto\n"
     ]
    }
   ],
   "source": [
    "response = input(\"es cuzco la capital de peru\")\n",
    "if(response.upper() == \"SI\" ):\n",
    "    print(\"es incorrecto\")\n",
    "elif(response.upper() == \"NO\"):\n",
    "    print(\"correcto\")\n",
    "else: \n",
    "    print(\"no responde\")"
   ]
  },
  {
   "cell_type": "code",
   "execution_count": 29,
   "metadata": {},
   "outputs": [
    {
     "name": "stdout",
     "output_type": "stream",
     "text": [
      "digite la contraseñasEcret\n",
      "contraseña correcta\n"
     ]
    }
   ],
   "source": [
    "password = input(\"digite la contraseña\")\n",
    "if(password != \"sEcrEt\"):\n",
    "    print(\"contraseña incorrecta\")\n",
    "else: \n",
    "    print(\"contraseña correcta\")"
   ]
  },
  {
   "cell_type": "code",
   "execution_count": 31,
   "metadata": {},
   "outputs": [
    {
     "name": "stdout",
     "output_type": "stream",
     "text": [
      "digite su edad18\n",
      "ya puedes conducir en colombia\n",
      "no puedes conducir en argentina\n"
     ]
    }
   ],
   "source": [
    "edad = input(\"digite su edad\")\n",
    "if(int(edad)>16):\n",
    "    print(\"ya puedes conducir en colombia\")\n",
    "else:\n",
    "    print(\"todavia no puedes conducir en colombia\")\n",
    "if(int(edad)>18):\n",
    "    print(\"ya puedes conducir en portugar\")\n",
    "else: \n",
    "    print(\"no puedes conducir en argentina\")"
   ]
  },
  {
   "cell_type": "code",
   "execution_count": 35,
   "metadata": {},
   "outputs": [
    {
     "name": "stdout",
     "output_type": "stream",
     "text": [
      "escriba su nombreKuba\n",
      "su nombre en polaco es masculino\n"
     ]
    }
   ],
   "source": [
    "nacionalidad = input(\"escriba su nombre\")\n",
    "if(nacionalidad .endswith('a') and nacionalidad  != \"Kuba\"):\n",
    "    print(\"su nomre  en polaco es femenino \")\n",
    "else:\n",
    "    print(\"su nombre en polaco es masculino\")"
   ]
  }
 ],
 "metadata": {
  "kernelspec": {
   "display_name": "Python 3",
   "language": "python",
   "name": "python3"
  },
  "language_info": {
   "codemirror_mode": {
    "name": "ipython",
    "version": 3
   },
   "file_extension": ".py",
   "mimetype": "text/x-python",
   "name": "python",
   "nbconvert_exporter": "python",
   "pygments_lexer": "ipython3",
   "version": "3.8.3"
  }
 },
 "nbformat": 4,
 "nbformat_minor": 4
}
